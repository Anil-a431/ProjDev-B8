{
 "cells": [
  {
   "cell_type": "markdown",
   "metadata": {},
   "source": [
    "#### Python Basics\n",
    "- Output Functions\n",
    "    - print()\n",
    "- Input Functions\n",
    "- Functional Programming"
   ]
  },
  {
   "cell_type": "code",
   "execution_count": 1,
   "metadata": {},
   "outputs": [
    {
     "name": "stdout",
     "output_type": "stream",
     "text": [
      "Hello Python\n"
     ]
    }
   ],
   "source": [
    "print(\"Hello Python\")"
   ]
  },
  {
   "cell_type": "code",
   "execution_count": 2,
   "metadata": {},
   "outputs": [
    {
     "name": "stdout",
     "output_type": "stream",
     "text": [
      "Hello Python\n",
      "Project Development\n"
     ]
    }
   ],
   "source": [
    "print('Hello Python')\n",
    "print('Project Development')"
   ]
  },
  {
   "cell_type": "code",
   "execution_count": 3,
   "metadata": {},
   "outputs": [
    {
     "name": "stdout",
     "output_type": "stream",
     "text": [
      "Hello Python Project Development\n"
     ]
    }
   ],
   "source": [
    "print('Hello Python','Project Development')"
   ]
  },
  {
   "cell_type": "code",
   "execution_count": 4,
   "metadata": {},
   "outputs": [
    {
     "name": "stdout",
     "output_type": "stream",
     "text": [
      "Hello Python Project Development\n"
     ]
    }
   ],
   "source": [
    "print('Hello Python',end= ' ')\n",
    "print('Project Development')"
   ]
  },
  {
   "cell_type": "markdown",
   "metadata": {},
   "source": [
    "#### Datatypes of Python\n",
    "- int\n",
    "- float\n",
    "- string"
   ]
  },
  {
   "cell_type": "code",
   "execution_count": 8,
   "metadata": {},
   "outputs": [
    {
     "name": "stdout",
     "output_type": "stream",
     "text": [
      "1000000009099999999 <class 'int'>\n"
     ]
    }
   ],
   "source": [
    "x = 1000000009099999999\n",
    "print(x,type(x))"
   ]
  },
  {
   "cell_type": "code",
   "execution_count": 10,
   "metadata": {},
   "outputs": [
    {
     "name": "stdout",
     "output_type": "stream",
     "text": [
      "12.121212121213214 <class 'float'>\n"
     ]
    }
   ],
   "source": [
    "x1 = 12.12121212121321321321\n",
    "print(x1,type(x1))"
   ]
  },
  {
   "cell_type": "code",
   "execution_count": 18,
   "metadata": {},
   "outputs": [
    {
     "name": "stdout",
     "output_type": "stream",
     "text": [
      "a <class 'str'>\n",
      "1213 <class 'str'>\n"
     ]
    }
   ],
   "source": [
    "s1 = \"a\" # 'a'\n",
    "s2 = \"1213\"\n",
    "print(s1,type(s1))\n",
    "print(s2,type(s2))"
   ]
  },
  {
   "cell_type": "markdown",
   "metadata": {},
   "source": [
    "#### Python Datatype Conversions\n",
    "- int()\n",
    "- str()\n",
    "- float()"
   ]
  },
  {
   "cell_type": "code",
   "execution_count": 22,
   "metadata": {},
   "outputs": [
    {
     "name": "stdout",
     "output_type": "stream",
     "text": [
      "1213 <class 'str'>\n",
      "1213 <class 'int'>\n",
      "1213.0 <class 'float'>\n"
     ]
    }
   ],
   "source": [
    "x1 = '1213'\n",
    "a1 = int(x1)\n",
    "a2 = float(a1)\n",
    "print(x1,type(x1))\n",
    "print(a1,type(a1))\n",
    "print(a2,type(a2))"
   ]
  },
  {
   "cell_type": "markdown",
   "metadata": {},
   "source": [
    "#### Input Functions\n",
    "- input() : Reads the input from the Console Screen\n",
    "- input() returns the string"
   ]
  },
  {
   "cell_type": "code",
   "execution_count": 26,
   "metadata": {},
   "outputs": [
    {
     "name": "stdout",
     "output_type": "stream",
     "text": [
      "Enter Your Name : 4232adf\n",
      "Your Name is :  4232adf\n",
      "<class 'str'>\n"
     ]
    }
   ],
   "source": [
    "name = input('Enter Your Name : ')\n",
    "print('Your Name is : ',name)\n",
    "print(type(name))"
   ]
  },
  {
   "cell_type": "code",
   "execution_count": 27,
   "metadata": {},
   "outputs": [
    {
     "name": "stdout",
     "output_type": "stream",
     "text": [
      "Enter a Number : 12\n",
      "n1 =  12\n",
      "<class 'int'>\n"
     ]
    }
   ],
   "source": [
    "n1 = int(input('Enter a Number : '))\n",
    "print(\"n1 = \",n1)\n",
    "print(type(n1))"
   ]
  },
  {
   "cell_type": "code",
   "execution_count": 28,
   "metadata": {},
   "outputs": [
    {
     "name": "stdout",
     "output_type": "stream",
     "text": [
      "Enter a Decimal Number : 12.12\n",
      "<class 'float'> 12.12\n"
     ]
    }
   ],
   "source": [
    "d1 = float(input('Enter a Decimal Number : '))\n",
    "print(type(d1),d1)"
   ]
  },
  {
   "cell_type": "markdown",
   "metadata": {},
   "source": [
    "#### Control Flow Statements\n",
    "- Conditional Statements\n",
    "    - if-else\n",
    "- Looping Statements\n",
    "    - while\n",
    "    - for"
   ]
  },
  {
   "cell_type": "code",
   "execution_count": null,
   "metadata": {},
   "outputs": [],
   "source": [
    "if Condition:\n",
    "    Statement 1\n",
    "    Statement 2\n",
    "    Statement 3\n",
    "else:\n",
    "    Statement 1\n",
    "    Statement 2\n",
    "    Statement 3"
   ]
  },
  {
   "cell_type": "code",
   "execution_count": 30,
   "metadata": {},
   "outputs": [
    {
     "name": "stdout",
     "output_type": "stream",
     "text": [
      "12\n",
      "Even Number\n"
     ]
    }
   ],
   "source": [
    "# Read the Number as Input and Test whether Even or Odd\n",
    "x = int(input())\n",
    "if x % 2 == 0:\n",
    "    print('Even Number')\n",
    "else:\n",
    "    print('Odd Number')"
   ]
  },
  {
   "cell_type": "code",
   "execution_count": 32,
   "metadata": {},
   "outputs": [
    {
     "name": "stdout",
     "output_type": "stream",
     "text": [
      "Enter Username : Admin\n",
      "Enter Password : 123\n",
      "Invalid User\n"
     ]
    }
   ],
   "source": [
    "# Read the Input as Username and Password\n",
    "# If both are same as 'Admin' print Valid User\n",
    "# If not print 'Invalid User'\n",
    "username = input('Enter Username : ')\n",
    "password = input('Enter Password : ')\n",
    "if username == 'Admin' and password == 'Admin':\n",
    "    print('Valid User')\n",
    "else:\n",
    "    print('Invalid User')"
   ]
  },
  {
   "cell_type": "code",
   "execution_count": 37,
   "metadata": {},
   "outputs": [
    {
     "name": "stdout",
     "output_type": "stream",
     "text": [
      "Enter Username : Admin\n",
      "Enter Password : Admin\n",
      "Do you want to Update Password : Yes\n",
      "Enter New Password : admin123\n",
      "Password is Updated\n"
     ]
    }
   ],
   "source": [
    "# Read the Input Username and Password\n",
    "# If the Username and Password : Admin\n",
    "# Give a chance to Update the Password\n",
    "# Update the Password to New Password\n",
    "x,y = 'Admin','Admin'\n",
    "username = input('Enter Username : ')\n",
    "password = input('Enter Password : ')\n",
    "if x == username and y == password :\n",
    "    choice =input('Do you want to Update Password : ')\n",
    "    if choice == 'Yes':\n",
    "        newpwd = input('Enter New Password : ')\n",
    "        y = newpwd\n",
    "        print('Password is Updated')\n",
    "    else:\n",
    "        print('Your password is not updated')\n",
    "else:\n",
    "    print('Invalid User')"
   ]
  },
  {
   "cell_type": "code",
   "execution_count": 38,
   "metadata": {},
   "outputs": [
    {
     "name": "stdout",
     "output_type": "stream",
     "text": [
      "admin123\n"
     ]
    }
   ],
   "source": [
    "print(y)\n",
    "# True False and or not "
   ]
  },
  {
   "cell_type": "code",
   "execution_count": 43,
   "metadata": {},
   "outputs": [
    {
     "name": "stdout",
     "output_type": "stream",
     "text": [
      "Gitam\n",
      "<class 'bool'>\n"
     ]
    }
   ],
   "source": [
    "true = True\n",
    "if true:\n",
    "    print('Gitam')\n",
    "else:\n",
    "    print('Hyderabad')\n",
    "\n",
    "print(type(true))"
   ]
  },
  {
   "cell_type": "code",
   "execution_count": null,
   "metadata": {},
   "outputs": [],
   "source": [
    "# Let's Understanding the Write the While Loop\n",
    "while Condition:\n",
    "    Statements\n",
    "    Increment / Decrement"
   ]
  },
  {
   "cell_type": "code",
   "execution_count": 44,
   "metadata": {},
   "outputs": [
    {
     "name": "stdout",
     "output_type": "stream",
     "text": [
      "10\n",
      "1 2 3 4 5 6 7 8 9 10 "
     ]
    }
   ],
   "source": [
    "# Read the Value N and Print the output as Numbers from 1 to N\n",
    "n = int(input())\n",
    "i = 1\n",
    "while i <= n:\n",
    "    print(i,end = ' ')\n",
    "    i += 1 # i++ does not work in Python"
   ]
  },
  {
   "cell_type": "code",
   "execution_count": 45,
   "metadata": {},
   "outputs": [
    {
     "name": "stdout",
     "output_type": "stream",
     "text": [
      "12\n",
      "2 4 6 8 10 12 "
     ]
    }
   ],
   "source": [
    "# Read the Value as N and Print Even Numbers between 1 to N\n",
    "n = int(input())\n",
    "i = 1\n",
    "while i <= n:\n",
    "    if i % 2 == 0:\n",
    "        print(i,end = ' ')\n",
    "    i += 1"
   ]
  },
  {
   "cell_type": "code",
   "execution_count": null,
   "metadata": {},
   "outputs": [],
   "source": [
    "# Let's Understand Write of for Loop in Python\n",
    "for localVar in range(Value):\n",
    "    print()"
   ]
  },
  {
   "cell_type": "code",
   "execution_count": 46,
   "metadata": {},
   "outputs": [
    {
     "name": "stdout",
     "output_type": "stream",
     "text": [
      "0 1 2 3 4 5 6 7 8 9 "
     ]
    }
   ],
   "source": [
    "for x in range(10):\n",
    "    print(x,end = ' ')"
   ]
  },
  {
   "cell_type": "code",
   "execution_count": 47,
   "metadata": {},
   "outputs": [
    {
     "name": "stdout",
     "output_type": "stream",
     "text": [
      "1 2 3 4 5 6 7 8 9 "
     ]
    }
   ],
   "source": [
    "for x in range(1,10):\n",
    "    print(x,end = ' ')"
   ]
  },
  {
   "cell_type": "code",
   "execution_count": 48,
   "metadata": {},
   "outputs": [
    {
     "name": "stdout",
     "output_type": "stream",
     "text": [
      "1 3 5 7 9 11 13 15 17 19 "
     ]
    }
   ],
   "source": [
    "for x in range(1,20,2):\n",
    "    print(x,end = ' ')"
   ]
  },
  {
   "cell_type": "code",
   "execution_count": 50,
   "metadata": {},
   "outputs": [
    {
     "name": "stdout",
     "output_type": "stream",
     "text": [
      "20 19 18 17 16 15 14 13 12 11 10 9 8 7 6 5 4 3 2 1 0 "
     ]
    }
   ],
   "source": [
    "for x in range(20,-1,-1):\n",
    "    print(x,end = ' ')"
   ]
  },
  {
   "cell_type": "code",
   "execution_count": 53,
   "metadata": {},
   "outputs": [
    {
     "name": "stdout",
     "output_type": "stream",
     "text": [
      "-5 -4 -3 -2 -1 0 1 2 3 4 5 "
     ]
    }
   ],
   "source": [
    "for x in range(-5,6,1):\n",
    "    print(x,end = ' ')"
   ]
  },
  {
   "cell_type": "markdown",
   "metadata": {},
   "source": [
    "#### Functional Programming\n",
    "- Define a function accroding to User requirements with some block of statemetns\n",
    "- Reuseablity (Write for once and use any number of times)\n",
    "- Program length will decreases\n",
    "- Lengthy Program divides into sub blocks(Every Sub block is one function)"
   ]
  },
  {
   "cell_type": "code",
   "execution_count": null,
   "metadata": {},
   "outputs": [],
   "source": [
    "# Syntax\n",
    "def <funName>(<Parameters>):\n",
    "    Statement 1\n",
    "    Statement 2\n",
    "    ...........\n",
    "    statement n\n",
    "    <return>\n",
    "\n",
    "# funName - Camel Case\n",
    "# test() isPrime() addTwoNumbers()\n",
    "# Variables Names - Camel Case\n",
    "# a x outputValue oSum pSum"
   ]
  },
  {
   "cell_type": "code",
   "execution_count": 54,
   "metadata": {},
   "outputs": [
    {
     "name": "stdout",
     "output_type": "stream",
     "text": [
      "Hello test() function\n"
     ]
    }
   ],
   "source": [
    "# Function Defination\n",
    "def test():\n",
    "    print('Hello test() function')\n",
    "    return\n",
    "test() # Function Calling"
   ]
  },
  {
   "cell_type": "code",
   "execution_count": 55,
   "metadata": {},
   "outputs": [
    {
     "name": "stdout",
     "output_type": "stream",
     "text": [
      "30\n"
     ]
    }
   ],
   "source": [
    "# Function with input values\n",
    "def addTwoNumbers(x,y):\n",
    "    print(x+y)\n",
    "    return\n",
    "addTwoNumbers(10,20)"
   ]
  },
  {
   "cell_type": "code",
   "execution_count": 56,
   "metadata": {},
   "outputs": [
    {
     "data": {
      "text/plain": [
       "64"
      ]
     },
     "execution_count": 56,
     "metadata": {},
     "output_type": "execute_result"
    }
   ],
   "source": [
    "# Function with paramters and return value\n",
    "def cube(x):\n",
    "    return x*x*x\n",
    "cube(4)"
   ]
  },
  {
   "cell_type": "code",
   "execution_count": 62,
   "metadata": {},
   "outputs": [
    {
     "data": {
      "text/plain": [
       "'Not a Palindrome'"
      ]
     },
     "execution_count": 62,
     "metadata": {},
     "output_type": "execute_result"
    }
   ],
   "source": [
    "# Function to test wether given given number is Palindrome or not\n",
    "def isPalindrome(n):\n",
    "    rev,buffer = 0,  n\n",
    "    while n != 0:\n",
    "        rev = rev*10 + (n%10)\n",
    "        n = n // 10\n",
    "    if buffer == rev:\n",
    "        return \"Palindrome\"\n",
    "    return \"Not a Palindrome\"\n",
    "isPalindrome(1231)"
   ]
  },
  {
   "cell_type": "code",
   "execution_count": 64,
   "metadata": {},
   "outputs": [
    {
     "data": {
      "text/plain": [
       "3"
      ]
     },
     "execution_count": 64,
     "metadata": {},
     "output_type": "execute_result"
    }
   ],
   "source": [
    "10//3"
   ]
  },
  {
   "cell_type": "markdown",
   "metadata": {},
   "source": [
    "#### Data Structures in Python\n",
    "- **List**\n",
    "- **Tuples**\n",
    "- **Dict**\n",
    "- **Sets**\n",
    "\n",
    "#### List\n",
    "- Its one of the common Data Structure in Python\n",
    "- This List enclosed within Square brackets\n",
    "- Each List iten will be separated by comma symbol"
   ]
  },
  {
   "cell_type": "code",
   "execution_count": 66,
   "metadata": {},
   "outputs": [
    {
     "name": "stdout",
     "output_type": "stream",
     "text": [
      "<class 'list'>\n",
      "[1, 2, 3, 4, 5]\n"
     ]
    }
   ],
   "source": [
    "# Sample List\n",
    "li = [1,2,3,4,5]\n",
    "print(type(li))\n",
    "print(li)"
   ]
  },
  {
   "cell_type": "code",
   "execution_count": 68,
   "metadata": {},
   "outputs": [
    {
     "name": "stdout",
     "output_type": "stream",
     "text": [
      "[1009, 'a', 'Gitam', 1990, 12.12]\n",
      "<class 'list'>\n"
     ]
    }
   ],
   "source": [
    "a = [1009,'a','Gitam',1990,12.12]\n",
    "print(a)\n",
    "print(type(a))"
   ]
  },
  {
   "cell_type": "code",
   "execution_count": 71,
   "metadata": {},
   "outputs": [
    {
     "data": {
      "text/plain": [
       "2020"
      ]
     },
     "execution_count": 71,
     "metadata": {},
     "output_type": "execute_result"
    }
   ],
   "source": [
    "a[0] # Index"
   ]
  },
  {
   "cell_type": "code",
   "execution_count": 70,
   "metadata": {},
   "outputs": [],
   "source": [
    "a[0] = 2020 # Update the Index value"
   ]
  },
  {
   "cell_type": "code",
   "execution_count": 72,
   "metadata": {},
   "outputs": [],
   "source": [
    "del a[2] # Delete the Index Value"
   ]
  },
  {
   "cell_type": "code",
   "execution_count": 73,
   "metadata": {},
   "outputs": [
    {
     "name": "stdout",
     "output_type": "stream",
     "text": [
      "[2020, 'a', 1990, 12.12]\n"
     ]
    }
   ],
   "source": [
    "print(a)"
   ]
  },
  {
   "cell_type": "code",
   "execution_count": 74,
   "metadata": {},
   "outputs": [
    {
     "ename": "IndexError",
     "evalue": "list assignment index out of range",
     "output_type": "error",
     "traceback": [
      "\u001b[1;31m---------------------------------------------------------------------------\u001b[0m",
      "\u001b[1;31mIndexError\u001b[0m                                Traceback (most recent call last)",
      "\u001b[1;32m<ipython-input-74-041342ff636b>\u001b[0m in \u001b[0;36m<module>\u001b[1;34m\u001b[0m\n\u001b[1;32m----> 1\u001b[1;33m \u001b[0ma\u001b[0m\u001b[1;33m[\u001b[0m\u001b[1;36m4\u001b[0m\u001b[1;33m]\u001b[0m \u001b[1;33m=\u001b[0m \u001b[1;36m2919\u001b[0m\u001b[1;33m\u001b[0m\u001b[1;33m\u001b[0m\u001b[0m\n\u001b[0m",
      "\u001b[1;31mIndexError\u001b[0m: list assignment index out of range"
     ]
    }
   ],
   "source": [
    "a[4] = 2919"
   ]
  },
  {
   "cell_type": "code",
   "execution_count": 79,
   "metadata": {},
   "outputs": [
    {
     "name": "stdout",
     "output_type": "stream",
     "text": [
      "Max Value is  89\n",
      "Min Value is  1\n",
      "Sum of Values  176\n",
      "Len of List  6\n",
      "Avg of List  29\n"
     ]
    }
   ],
   "source": [
    "# Some of the functions of list object\n",
    "li = [19,1,24,21,89,22]\n",
    "print('Max Value is ' ,max(li))\n",
    "print('Min Value is ',min(li))\n",
    "print('Sum of Values ',sum(li))\n",
    "print('Len of List ',len(li))\n",
    "print('Avg of List Values',sum(li)//len(li))"
   ]
  },
  {
   "cell_type": "code",
   "execution_count": 80,
   "metadata": {},
   "outputs": [
    {
     "data": {
      "text/plain": [
       "[19, 1]"
      ]
     },
     "execution_count": 80,
     "metadata": {},
     "output_type": "execute_result"
    }
   ],
   "source": [
    "# Slicing of List Object\n",
    "li[0:2] # starts from 0th Index and till 2nd Index"
   ]
  },
  {
   "cell_type": "code",
   "execution_count": 84,
   "metadata": {},
   "outputs": [
    {
     "data": {
      "text/plain": [
       "[24, 21, 89, 22]"
      ]
     },
     "execution_count": 84,
     "metadata": {},
     "output_type": "execute_result"
    }
   ],
   "source": [
    "li[2:] # If second parameter is not given then it will consider till last"
   ]
  },
  {
   "cell_type": "code",
   "execution_count": 87,
   "metadata": {},
   "outputs": [
    {
     "data": {
      "text/plain": [
       "[24, 21]"
      ]
     },
     "execution_count": 87,
     "metadata": {},
     "output_type": "execute_result"
    }
   ],
   "source": [
    "li[2:-2]"
   ]
  },
  {
   "cell_type": "code",
   "execution_count": 89,
   "metadata": {},
   "outputs": [],
   "source": [
    "#### Methods of List object\n",
    "# li.append(object)\n",
    "li.append(199) #it will place the object at last + 1 Index"
   ]
  },
  {
   "cell_type": "code",
   "execution_count": 96,
   "metadata": {},
   "outputs": [],
   "source": [
    "li.insert(3,299) # It will place the value at particular Index"
   ]
  },
  {
   "cell_type": "code",
   "execution_count": 100,
   "metadata": {},
   "outputs": [
    {
     "data": {
      "text/plain": [
       "2"
      ]
     },
     "execution_count": 100,
     "metadata": {},
     "output_type": "execute_result"
    }
   ],
   "source": [
    "li.index(24) # It will print the index of the given object"
   ]
  },
  {
   "cell_type": "code",
   "execution_count": 102,
   "metadata": {},
   "outputs": [
    {
     "data": {
      "text/plain": [
       "2"
      ]
     },
     "execution_count": 102,
     "metadata": {},
     "output_type": "execute_result"
    }
   ],
   "source": [
    "li.count(3) # It will print the count of object repitations"
   ]
  },
  {
   "cell_type": "code",
   "execution_count": 103,
   "metadata": {},
   "outputs": [],
   "source": [
    "li.reverse() # It will reverse the list object"
   ]
  },
  {
   "cell_type": "code",
   "execution_count": 106,
   "metadata": {},
   "outputs": [],
   "source": [
    "li.sort() # It will sorts the list"
   ]
  },
  {
   "cell_type": "code",
   "execution_count": 107,
   "metadata": {},
   "outputs": [
    {
     "data": {
      "text/plain": [
       "[1, 3, 3, 19, 21, 22, 24, 89, 199, 299]"
      ]
     },
     "execution_count": 107,
     "metadata": {},
     "output_type": "execute_result"
    }
   ],
   "source": [
    "li"
   ]
  },
  {
   "cell_type": "code",
   "execution_count": 108,
   "metadata": {},
   "outputs": [
    {
     "data": {
      "text/plain": [
       "199"
      ]
     },
     "execution_count": 108,
     "metadata": {},
     "output_type": "execute_result"
    }
   ],
   "source": [
    "# Second Large the value of the list\n",
    "def secondLarge(li):\n",
    "    li.sort()\n",
    "    return li[-2]\n",
    "secondLarge(li)"
   ]
  },
  {
   "cell_type": "code",
   "execution_count": 109,
   "metadata": {},
   "outputs": [
    {
     "data": {
      "text/plain": [
       "24"
      ]
     },
     "execution_count": 109,
     "metadata": {},
     "output_type": "execute_result"
    }
   ],
   "source": [
    "def genericLarge(li,n):\n",
    "    li.sort()\n",
    "    return li[-n]\n",
    "genericLarge(li,4)"
   ]
  },
  {
   "cell_type": "code",
   "execution_count": 110,
   "metadata": {},
   "outputs": [
    {
     "data": {
      "text/plain": [
       "[1, 2, 3, 6]"
      ]
     },
     "execution_count": 110,
     "metadata": {},
     "output_type": "execute_result"
    }
   ],
   "source": [
    "def factorsList(n):\n",
    "    li = []\n",
    "    for x in range(1,n+1):\n",
    "        if n % x == 0:\n",
    "            li.append(x)\n",
    "    return li\n",
    "factorsList(6) # 1 2 3 6"
   ]
  },
  {
   "cell_type": "code",
   "execution_count": 111,
   "metadata": {},
   "outputs": [
    {
     "data": {
      "text/plain": [
       "4"
      ]
     },
     "execution_count": 111,
     "metadata": {},
     "output_type": "execute_result"
    }
   ],
   "source": [
    "# Read the input as two Numbers and Print the repitations\n",
    "# 123121212,2 -- 4\n",
    "# 123121212,1 -- 4\n",
    "def findRepCount(n,k):\n",
    "    li = []\n",
    "    while n != 0:\n",
    "        li.append(n%10)\n",
    "        n = n//10\n",
    "    return li.count(k)\n",
    "findRepCount(123121212,2)"
   ]
  },
  {
   "cell_type": "code",
   "execution_count": null,
   "metadata": {},
   "outputs": [],
   "source": [
    "# External Packages to the Python\n",
    "import <PackageName>"
   ]
  },
  {
   "cell_type": "code",
   "execution_count": 112,
   "metadata": {},
   "outputs": [],
   "source": [
    "import math # Import the math Package to Python\n",
    "# The above statement will import all the methods of math package"
   ]
  },
  {
   "cell_type": "code",
   "execution_count": 113,
   "metadata": {},
   "outputs": [
    {
     "data": {
      "text/plain": [
       "120"
      ]
     },
     "execution_count": 113,
     "metadata": {},
     "output_type": "execute_result"
    }
   ],
   "source": [
    "math.factorial(5) # Math Package calling the method factorial"
   ]
  },
  {
   "cell_type": "code",
   "execution_count": 114,
   "metadata": {},
   "outputs": [
    {
     "data": {
      "text/plain": [
       "12"
      ]
     },
     "execution_count": 114,
     "metadata": {},
     "output_type": "execute_result"
    }
   ],
   "source": [
    "math.floor(12.123)"
   ]
  },
  {
   "cell_type": "code",
   "execution_count": 115,
   "metadata": {},
   "outputs": [],
   "source": [
    "from math import *\n",
    "# The above statement will import all the methods of math package\n",
    "from math import factorial,floor\n",
    "# The above statement will import only two methods of math package"
   ]
  },
  {
   "cell_type": "code",
   "execution_count": 116,
   "metadata": {},
   "outputs": [
    {
     "data": {
      "text/plain": [
       "3628800"
      ]
     },
     "execution_count": 116,
     "metadata": {},
     "output_type": "execute_result"
    }
   ],
   "source": [
    "factorial(10)"
   ]
  },
  {
   "cell_type": "code",
   "execution_count": 117,
   "metadata": {},
   "outputs": [],
   "source": [
    "import math as MathCalc"
   ]
  },
  {
   "cell_type": "code",
   "execution_count": 118,
   "metadata": {},
   "outputs": [
    {
     "data": {
      "text/plain": [
       "10"
      ]
     },
     "execution_count": 118,
     "metadata": {},
     "output_type": "execute_result"
    }
   ],
   "source": [
    "MathCalc.gcd(10,20)"
   ]
  },
  {
   "cell_type": "markdown",
   "metadata": {},
   "source": [
    "#### File Management\n",
    "- Create a File\n",
    "- Write the Data to the File\n",
    "- Read the Data from the File\n",
    "- Problem statements on Files"
   ]
  },
  {
   "cell_type": "code",
   "execution_count": 121,
   "metadata": {},
   "outputs": [
    {
     "name": "stdout",
     "output_type": "stream",
     "text": [
      "File is created and Data has been sent to File\n"
     ]
    }
   ],
   "source": [
    "def createFile(fileName):\n",
    "    f = open(fileName,'w')\n",
    "    for x in range(10):\n",
    "        f.write('\\nThis is %d line' %(x))\n",
    "    print('File is created and Data has been sent to File')\n",
    "    return\n",
    "createFile('Data.txt')"
   ]
  },
  {
   "cell_type": "code",
   "execution_count": 120,
   "metadata": {},
   "outputs": [
    {
     "data": {
      "text/plain": [
       "'C:\\\\Users\\\\Dhyanahita PS'"
      ]
     },
     "execution_count": 120,
     "metadata": {},
     "output_type": "execute_result"
    }
   ],
   "source": [
    "pwd"
   ]
  },
  {
   "cell_type": "code",
   "execution_count": 122,
   "metadata": {},
   "outputs": [
    {
     "name": "stdout",
     "output_type": "stream",
     "text": [
      " Volume in drive C has no label.\n",
      " Volume Serial Number is 8081-5EFA\n",
      "\n",
      " Directory of C:\\Users\\Dhyanahita PS\n",
      "\n",
      "\n",
      " Directory of C:\\Users\\Dhyanahita PS\n",
      "\n",
      "\n",
      " Directory of C:\\Users\\Dhyanahita PS\n",
      "\n",
      "\n",
      " Directory of C:\\Users\\Dhyanahita PS\n",
      "\n",
      "\n",
      " Directory of C:\\Users\\Dhyanahita PS\n",
      "\n",
      "\n",
      " Directory of C:\\Users\\Dhyanahita PS\n",
      "\n"
     ]
    },
    {
     "name": "stderr",
     "output_type": "stream",
     "text": [
      "File Not Found\n"
     ]
    }
   ],
   "source": [
    "ls # List of Files and Folders"
   ]
  },
  {
   "cell_type": "code",
   "execution_count": 123,
   "metadata": {},
   "outputs": [
    {
     "name": "stdout",
     "output_type": "stream",
     "text": [
      "File Data has written\n"
     ]
    }
   ],
   "source": [
    "def createFile(fileName):\n",
    "    f = open(fileName,'w')\n",
    "    f.write('Gitam Hyderabad')\n",
    "    f.close()\n",
    "    print('File Data has written')\n",
    "    return\n",
    "createFile('Data.txt')"
   ]
  },
  {
   "cell_type": "code",
   "execution_count": null,
   "metadata": {},
   "outputs": [],
   "source": []
  },
  {
   "cell_type": "code",
   "execution_count": null,
   "metadata": {},
   "outputs": [],
   "source": []
  },
  {
   "cell_type": "code",
   "execution_count": null,
   "metadata": {},
   "outputs": [],
   "source": []
  }
 ],
 "metadata": {
  "kernelspec": {
   "display_name": "Python 3",
   "language": "python",
   "name": "python3"
  },
  "language_info": {
   "codemirror_mode": {
    "name": "ipython",
    "version": 3
   },
   "file_extension": ".py",
   "mimetype": "text/x-python",
   "name": "python",
   "nbconvert_exporter": "python",
   "pygments_lexer": "ipython3",
   "version": "3.7.4"
  }
 },
 "nbformat": 4,
 "nbformat_minor": 2
}
